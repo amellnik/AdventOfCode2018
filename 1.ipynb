{
 "cells": [
  {
   "cell_type": "code",
   "execution_count": 3,
   "metadata": {},
   "outputs": [
    {
     "data": {
      "text/plain": [
       "531"
      ]
     },
     "execution_count": 3,
     "metadata": {},
     "output_type": "execute_result"
    }
   ],
   "source": [
    "# 1a\n",
    "lines = readlines(\"1-input.txt\")\n",
    "s = 0\n",
    "for l in lines\n",
    "    s = s + parse(Int64, l)\n",
    "end\n",
    "s"
   ]
  },
  {
   "cell_type": "code",
   "execution_count": 9,
   "metadata": {},
   "outputs": [
    {
     "data": {
      "text/plain": [
       "76787"
      ]
     },
     "execution_count": 9,
     "metadata": {},
     "output_type": "execute_result"
    }
   ],
   "source": [
    "# 1b\n",
    "arr = Int64[]\n",
    "s = 0\n",
    "found = false\n",
    "while !found \n",
    "    for l in lines\n",
    "        s = s + parse(Int64, l)\n",
    "        if s in arr \n",
    "            found = true\n",
    "            break\n",
    "        else\n",
    "            push!(arr, s)\n",
    "        end\n",
    "    end\n",
    "end\n",
    "s"
   ]
  }
 ],
 "metadata": {
  "kernelspec": {
   "display_name": "Julia 1.0.2",
   "language": "julia",
   "name": "julia-1.0"
  },
  "language_info": {
   "file_extension": ".jl",
   "mimetype": "application/julia",
   "name": "julia",
   "version": "1.0.0"
  }
 },
 "nbformat": 4,
 "nbformat_minor": 2
}
