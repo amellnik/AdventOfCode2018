{
 "cells": [
  {
   "cell_type": "code",
   "execution_count": 37,
   "metadata": {},
   "outputs": [],
   "source": [
    "# 11a\n",
    "sn = 9110\n",
    "x = collect(1:300) .+ 10 # Rack ID\n",
    "y = collect(1:300) # y coordinate\n",
    "G = x * transpose(y) # Begin with the rack ID * the y coordinate\n",
    "G = G .+ sn  # increase by the grid serial number\n",
    "G = G .* x # multiply by rack ID\n",
    "hundreds_digit(i) = div((i - i % 100), 100) % 10\n",
    "G = hundreds_digit.(G)  # Hundred's digit\n",
    "G = G .- 5 # subtract 5;"
   ]
  },
  {
   "cell_type": "code",
   "execution_count": 39,
   "metadata": {},
   "outputs": [
    {
     "name": "stdout",
     "output_type": "stream",
     "text": [
      "1,1: 5\n",
      "1,2: 8\n",
      "1,29: 10\n",
      "1,30: 13\n",
      "1,37: 14\n",
      "1,78: 17\n",
      "1,161: 19\n",
      "19,14: 25\n",
      "20,14: 27\n",
      "21,13: 28\n"
     ]
    }
   ],
   "source": [
    "rec = 0\n",
    "for u in 1:297, v in 1:298\n",
    "    s = sum(G[u:(u+2),v:(v+2)]) \n",
    "    if s > rec\n",
    "        println(u, \",\", v, \": \", s)\n",
    "        rec = s\n",
    "    end\n",
    "end"
   ]
  },
  {
   "cell_type": "code",
   "execution_count": 40,
   "metadata": {},
   "outputs": [
    {
     "name": "stdout",
     "output_type": "stream",
     "text": [
      "1,2,2: 2\n",
      "1,3,2: 6\n",
      "1,22,2: 7\n",
      "1,30,2: 10\n",
      "1,38,2: 13\n",
      "1,212,2: 14\n",
      "20,114,2: 15\n",
      "21,267,2: 16\n",
      "1,78,3: 17\n",
      "1,161,3: 19\n",
      "19,14,3: 25\n",
      "20,14,3: 27\n",
      "21,13,3: 28\n",
      "19,13,4: 33\n",
      "19,14,4: 41\n",
      "20,224,5: 43\n",
      "31,77,5: 44\n",
      "241,232,5: 45\n",
      "237,292,6: 47\n",
      "237,293,6: 49\n",
      "237,294,6: 50\n",
      "237,295,6: 51\n",
      "243,111,6: 52\n",
      "142,150,7: 53\n",
      "236,292,7: 59\n",
      "236,294,7: 64\n",
      "243,111,7: 65\n",
      "234,272,9: 68\n",
      "241,109,9: 78\n",
      "235,268,13: 80\n"
     ]
    }
   ],
   "source": [
    "# 11b\n",
    "rec = 0\n",
    "for q in 1:300\n",
    "    for u in 1:(301-q), v in 1:(301-q)\n",
    "        s = sum(G[u:(u+q-1),v:(v+q-1)]) \n",
    "        if s > rec\n",
    "            println(u, \",\", v, \",\", q, \": \", s)\n",
    "            rec = s\n",
    "        end\n",
    "    end\n",
    "end"
   ]
  },
  {
   "cell_type": "code",
   "execution_count": 17,
   "metadata": {},
   "outputs": [
    {
     "data": {
      "text/plain": [
       "3"
      ]
     },
     "execution_count": 17,
     "metadata": {},
     "output_type": "execute_result"
    }
   ],
   "source": [
    "div((2345 - 2345 % 100), 100) % 10"
   ]
  },
  {
   "cell_type": "code",
   "execution_count": 14,
   "metadata": {},
   "outputs": [
    {
     "name": "stdout",
     "output_type": "stream",
     "text": [
      "search: \u001b[0m\u001b[1md\u001b[22m\u001b[0m\u001b[1mi\u001b[22m\u001b[0m\u001b[1mv\u001b[22m\u001b[0m\u001b[1mr\u001b[22m\u001b[0m\u001b[1me\u001b[22m\u001b[0m\u001b[1mm\u001b[22m\n",
      "\n"
     ]
    },
    {
     "data": {
      "text/latex": [
       "\\begin{verbatim}\n",
       "divrem(x, y)\n",
       "\\end{verbatim}\n",
       "The quotient and remainder from Euclidean division. Equivalent to \\texttt{(div(x,y), rem(x,y))} or \\texttt{(x÷y, x\\%y)}.\n",
       "\n",
       "\\section{Examples}\n",
       "\\begin{verbatim}\n",
       "julia> divrem(3,7)\n",
       "(0, 3)\n",
       "\n",
       "julia> divrem(7,3)\n",
       "(2, 1)\n",
       "\\end{verbatim}\n"
      ],
      "text/markdown": [
       "```\n",
       "divrem(x, y)\n",
       "```\n",
       "\n",
       "The quotient and remainder from Euclidean division. Equivalent to `(div(x,y), rem(x,y))` or `(x÷y, x%y)`.\n",
       "\n",
       "# Examples\n",
       "\n",
       "```jldoctest\n",
       "julia> divrem(3,7)\n",
       "(0, 3)\n",
       "\n",
       "julia> divrem(7,3)\n",
       "(2, 1)\n",
       "```\n"
      ],
      "text/plain": [
       "\u001b[36m  divrem(x, y)\u001b[39m\n",
       "\n",
       "  The quotient and remainder from Euclidean division. Equivalent to \u001b[36m(div(x,y),\n",
       "  rem(x,y))\u001b[39m or \u001b[36m(x÷y, x%y)\u001b[39m.\n",
       "\n",
       "\u001b[1m  Examples\u001b[22m\n",
       "\u001b[1m  ≡≡≡≡≡≡≡≡≡≡\u001b[22m\n",
       "\n",
       "\u001b[36m  julia> divrem(3,7)\u001b[39m\n",
       "\u001b[36m  (0, 3)\u001b[39m\n",
       "\u001b[36m  \u001b[39m\n",
       "\u001b[36m  julia> divrem(7,3)\u001b[39m\n",
       "\u001b[36m  (2, 1)\u001b[39m"
      ]
     },
     "execution_count": 14,
     "metadata": {},
     "output_type": "execute_result"
    }
   ],
   "source": [
    "?divrem"
   ]
  },
  {
   "cell_type": "code",
   "execution_count": null,
   "metadata": {},
   "outputs": [],
   "source": []
  }
 ],
 "metadata": {
  "@webio": {
   "lastCommId": "7f92b02d35744f068ced8ba874016628",
   "lastKernelId": "f0278dad-0407-4942-8921-b4b670e25254"
  },
  "kernelspec": {
   "display_name": "Julia 1.0.2",
   "language": "julia",
   "name": "julia-1.0"
  },
  "language_info": {
   "file_extension": ".jl",
   "mimetype": "application/julia",
   "name": "julia",
   "version": "1.0.2"
  }
 },
 "nbformat": 4,
 "nbformat_minor": 2
}
