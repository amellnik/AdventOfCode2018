{
 "cells": [
  {
   "cell_type": "code",
   "execution_count": 9,
   "metadata": {},
   "outputs": [
    {
     "data": {
      "text/plain": [
       "6888"
      ]
     },
     "execution_count": 9,
     "metadata": {},
     "output_type": "execute_result"
    }
   ],
   "source": [
    "#2a\n",
    "lines = readlines(\"2-input.txt\")\n",
    "n2 = 0\n",
    "n3 = 0\n",
    "for l in lines \n",
    "    d = Dict{Char, Int64}()\n",
    "    for c in l\n",
    "        if haskey(d, c)\n",
    "            d[c] = d[c] + 1\n",
    "        else\n",
    "            d[c] = 1\n",
    "        end\n",
    "    end\n",
    "    has2 = 0\n",
    "    has3 = 0\n",
    "    for p in d\n",
    "        if p.second == 2\n",
    "            has2 = 1\n",
    "        elseif p.second == 3\n",
    "            has3 = 1\n",
    "        end\n",
    "    end\n",
    "    n2 = n2 + has2\n",
    "    n3 = n3 + has3\n",
    "end\n",
    "n2*n3"
   ]
  },
  {
   "cell_type": "code",
   "execution_count": 13,
   "metadata": {},
   "outputs": [
    {
     "name": "stdout",
     "output_type": "stream",
     "text": [
      "icxjvbrobtunlelzpdmfkuahgs\n",
      "icxjvbrobtunlelzpdmfksahgs\n",
      "icxjvbrobtunlelzpdmfksahgs\n",
      "icxjvbrobtunlelzpdmfkuahgs\n"
     ]
    }
   ],
   "source": [
    "#2b\n",
    "# There's probably a way to do this in less than O(n^2)\n",
    "for l1 in lines\n",
    "    for l2 in lines\n",
    "        delta = 0\n",
    "        for (c1, c2) in zip(l1, l2)\n",
    "            if c1 != c2\n",
    "                delta = delta + 1 \n",
    "            end\n",
    "            if delta > 1 \n",
    "                break\n",
    "            end\n",
    "        end\n",
    "        if delta == 1\n",
    "            println(l1)\n",
    "            println(l2)\n",
    "        end\n",
    "    end\n",
    "end"
   ]
  },
  {
   "cell_type": "code",
   "execution_count": null,
   "metadata": {},
   "outputs": [],
   "source": []
  }
 ],
 "metadata": {
  "kernelspec": {
   "display_name": "Julia 1.0.2",
   "language": "julia",
   "name": "julia-1.0"
  },
  "language_info": {
   "file_extension": ".jl",
   "mimetype": "application/julia",
   "name": "julia",
   "version": "1.0.0"
  }
 },
 "nbformat": 4,
 "nbformat_minor": 2
}
