{
 "cells": [
  {
   "cell_type": "code",
   "execution_count": 25,
   "metadata": {},
   "outputs": [
    {
     "data": {
      "text/plain": [
       "101196"
      ]
     },
     "execution_count": 25,
     "metadata": {},
     "output_type": "execute_result"
    }
   ],
   "source": [
    "#3a\n",
    "lines = readlines(\"3-input.txt\")\n",
    "d = Dict{Pair{Int64,Int64}, Int64}()  # Do this sparsely \n",
    "r = r\"^#| @ |,|: |x\"\n",
    "for l in lines\n",
    "    (claim, xi, yi, xl, yl) = parse.(Int64, split(l, r)[2:end])\n",
    "    for x in xi:(xi + xl - 1)\n",
    "        for y in yi:(yi + yl - 1)\n",
    "            loc = Pair(x,y)\n",
    "            haskey(d, loc) ? d[loc] = d[loc] + 1 : d[loc] = 1\n",
    "        end\n",
    "    end\n",
    "end\n",
    "n_overlap = 0\n",
    "for p in d\n",
    "    n_overlap = n_overlap + (p.second > 1)\n",
    "end\n",
    "n_overlap"
   ]
  },
  {
   "cell_type": "code",
   "execution_count": 27,
   "metadata": {},
   "outputs": [
    {
     "name": "stdout",
     "output_type": "stream",
     "text": [
      "243\n"
     ]
    }
   ],
   "source": [
    "#3b\n",
    "for l in lines\n",
    "    (claim, xi, yi, xl, yl) = parse.(Int64, split(l, r)[2:end])\n",
    "    hasmatch = false\n",
    "    for x in xi:(xi + xl - 1), y in yi:(yi + yl - 1)\n",
    "        loc = Pair(x,y)\n",
    "        if d[loc] > 1\n",
    "            hasmatch = true\n",
    "            break\n",
    "        end\n",
    "    end\n",
    "    if !hasmatch\n",
    "        println(claim)\n",
    "        break\n",
    "    end\n",
    "end"
   ]
  },
  {
   "cell_type": "code",
   "execution_count": null,
   "metadata": {},
   "outputs": [],
   "source": []
  }
 ],
 "metadata": {
  "kernelspec": {
   "display_name": "Julia 1.0.2",
   "language": "julia",
   "name": "julia-1.0"
  },
  "language_info": {
   "file_extension": ".jl",
   "mimetype": "application/julia",
   "name": "julia",
   "version": "1.0.2"
  }
 },
 "nbformat": 4,
 "nbformat_minor": 2
}
