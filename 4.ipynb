{
 "cells": [
  {
   "cell_type": "code",
   "execution_count": 25,
   "metadata": {},
   "outputs": [],
   "source": [
    "# 4a\n",
    "using Dates"
   ]
  },
  {
   "cell_type": "code",
   "execution_count": 36,
   "metadata": {
    "scrolled": true
   },
   "outputs": [
    {
     "data": {
      "text/plain": [
       "6-element Array{String,1}:\n",
       " \"[1518-02-24 23:57] Guard #1913 begins shift\"\n",
       " \"[1518-02-25 00:17] falls asleep\"            \n",
       " \"[1518-02-25 00:29] wakes up\"                \n",
       " \"[1518-02-25 00:54] falls asleep\"            \n",
       " \"[1518-02-25 00:56] wakes up\"                \n",
       " \"[1518-02-26 00:03] Guard #3469 begins shift\""
      ]
     },
     "execution_count": 36,
     "metadata": {},
     "output_type": "execute_result"
    }
   ],
   "source": [
    "# First, sort the lines in the file \n",
    "fmt = DateFormat(\"Y-m-d H:M\")\n",
    "lines = readlines(\"4-input.txt\")\n",
    "n = length(lines)\n",
    "\n",
    "datetimes = Array{DateTime,1}(undef, n)\n",
    "minutes = Array{Int64, 1}(undef, n)\n",
    "\n",
    "for (i,l) in enumerate(lines)\n",
    "    datetimes[i] = DateTime(l[2:17], fmt)\n",
    "    minutes[i] = parse(Int64, l[16:17])\n",
    "end\n",
    "p = sortperm(datetimes)\n",
    "sorted_lines = lines[p]\n",
    "sorted_minutes = minutes[p]\n",
    "sorted_lines[1:6]"
   ]
  },
  {
   "cell_type": "code",
   "execution_count": 64,
   "metadata": {},
   "outputs": [
    {
     "data": {
      "text/plain": [
       "(523, 484)"
      ]
     },
     "execution_count": 64,
     "metadata": {},
     "output_type": "execute_result"
    }
   ],
   "source": [
    "# Create a dict of guards with the ID of the guards, \n",
    "# store the total minutes slept in it\n",
    "d = Dict{Int64, Int64}()\n",
    "r = r\"#([0-9]+) \"\n",
    "i = 1\n",
    "while i<length(sorted_lines)\n",
    "    # We are at a guard ID line\n",
    "    m = match(r, sorted_lines[i])\n",
    "    id = parse(Int64, m.captures[1])\n",
    "    while (i<length(sorted_lines))&&(!occursin(r, sorted_lines[i+1]))\n",
    "        sleep_min = sorted_minutes[i+2] - sorted_minutes[i+1] -1\n",
    "        haskey(d, id) ? d[id] = d[id] + sleep_min : d[id] = sleep_min\n",
    "        i = i + 2\n",
    "    end\n",
    "    i = i + 1\n",
    "end\n",
    "# Reverse the dict to look up the max value\n",
    "dr = Dict(value => key for (key, value) in d)\n",
    "max_min = sort(collect(values(d)))[end]\n",
    "lazy_guard_id = dr[max_min]\n",
    "(lazy_guard_id, max_min)"
   ]
  },
  {
   "cell_type": "code",
   "execution_count": 73,
   "metadata": {},
   "outputs": [
    {
     "data": {
      "text/plain": [
       "38"
      ]
     },
     "execution_count": 73,
     "metadata": {},
     "output_type": "execute_result"
    }
   ],
   "source": [
    "# Create a list of the 60 minutes and how often that specific guard was\n",
    "# asleep then populate it\n",
    "hour = collect(zeros(Int64, 60))\n",
    "i = 1\n",
    "while i<length(sorted_lines)\n",
    "    # We are at a guard ID line\n",
    "    m = match(r, sorted_lines[i])\n",
    "    id = parse(Int64, m.captures[1])\n",
    "    while (i<length(sorted_lines))&&(!occursin(r, sorted_lines[i+1]))\n",
    "        if id == lazy_guard_id\n",
    "            hour[(sorted_minutes[i+1]+1):(sorted_minutes[i+2])] = \n",
    "                hour[(sorted_minutes[i+1]+1):(sorted_minutes[i+2])] .+ 1\n",
    "        end\n",
    "        i = i + 2\n",
    "    end\n",
    "    i = i + 1\n",
    "end\n",
    "# Minutes 00 is the 1st element in the array\n",
    "(sleeps, minute) = findmax(hour)\n",
    "minute = minute - 1"
   ]
  },
  {
   "cell_type": "code",
   "execution_count": 74,
   "metadata": {},
   "outputs": [
    {
     "data": {
      "text/plain": [
       "19874"
      ]
     },
     "execution_count": 74,
     "metadata": {},
     "output_type": "execute_result"
    }
   ],
   "source": [
    "# ID * minutes is the answer for part a\n",
    "lazy_guard_id * minute"
   ]
  },
  {
   "cell_type": "code",
   "execution_count": 81,
   "metadata": {},
   "outputs": [
    {
     "data": {
      "text/plain": [
       "Dict{Int64,Pair{Int64,Int64}} with 20 entries:\n",
       "  1069 => 11=>37\n",
       "  1861 => 8=>39\n",
       "  1399 => 12=>41\n",
       "  1699 => 13=>37\n",
       "  3253 => 6=>12\n",
       "  2557 => 10=>25\n",
       "  151  => 12=>45\n",
       "  3469 => 9=>45\n",
       "  1123 => 10=>30\n",
       "  1759 => 13=>48\n",
       "  389  => 8=>27\n",
       "  73   => 6=>21\n",
       "  2333 => 7=>33\n",
       "  829  => 13=>48\n",
       "  463  => 20=>50\n",
       "  3463 => 14=>24\n",
       "  653  => 6=>37\n",
       "  523  => 14=>39\n",
       "  1913 => 4=>18\n",
       "  1597 => 7=>29"
      ]
     },
     "execution_count": 81,
     "metadata": {},
     "output_type": "execute_result"
    }
   ],
   "source": [
    "# 4b\n",
    "# Now I pay the price for not calculating the full thing the first time \n",
    "d = Dict{Int64, Array{Int64,1}}()\n",
    "i = 1\n",
    "while i<length(sorted_lines)\n",
    "    # We are at a guard ID line\n",
    "    m = match(r, sorted_lines[i])\n",
    "    id = parse(Int64, m.captures[1])\n",
    "    while (i<length(sorted_lines))&&(!occursin(r, sorted_lines[i+1]))\n",
    "        if !haskey(d, id)\n",
    "            d[id] = collect(zeros(Int64, 60))\n",
    "        end\n",
    "        d[id][(sorted_minutes[i+1]+1):(sorted_minutes[i+2])] = \n",
    "            d[id][(sorted_minutes[i+1]+1):(sorted_minutes[i+2])] .+ 1\n",
    "        i = i + 2\n",
    "    end\n",
    "    i = i + 1\n",
    "end\n",
    "\n",
    "# Make a dict to hold the sleepiest minute and the number of sleeps\n",
    "dm = Dict{Int64, Pair{Int64, Int64}}()\n",
    "for (k, v) in d\n",
    "    dm[k] = Pair(findmax(v)...)\n",
    "end\n",
    "dm"
   ]
  },
  {
   "cell_type": "code",
   "execution_count": 83,
   "metadata": {},
   "outputs": [
    {
     "data": {
      "text/plain": [
       "22687"
      ]
     },
     "execution_count": 83,
     "metadata": {},
     "output_type": "execute_result"
    }
   ],
   "source": [
    "# Eyeball the above, sleepiest guard is #463 at minute 50-1 = 49\n",
    "463*49"
   ]
  }
 ],
 "metadata": {
  "@webio": {
   "lastCommId": "783b34e655bb424e8619f83d639d79b8",
   "lastKernelId": "9fc58d6e-3489-4eeb-8b7b-e971932c1d3d"
  },
  "kernelspec": {
   "display_name": "Julia 1.0.2",
   "language": "julia",
   "name": "julia-1.0"
  },
  "language_info": {
   "file_extension": ".jl",
   "mimetype": "application/julia",
   "name": "julia",
   "version": "1.0.2"
  }
 },
 "nbformat": 4,
 "nbformat_minor": 2
}
