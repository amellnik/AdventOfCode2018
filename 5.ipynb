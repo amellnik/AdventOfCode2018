{
 "cells": [
  {
   "cell_type": "code",
   "execution_count": 1,
   "metadata": {},
   "outputs": [
    {
     "data": {
      "text/plain": [
       "ispair (generic function with 1 method)"
      ]
     },
     "execution_count": 1,
     "metadata": {},
     "output_type": "execute_result"
    }
   ],
   "source": [
    "# 5a\n",
    "s = read(\"5-input.txt\", String)\n",
    "a = split(s, \"\")\n",
    "ispair(c1::Char, c2::Char) = \n",
    "    (lowercase(c1) == lowercase(c2)) && \n",
    "    (isuppercase(c1) + isuppercase(c2) == 1)"
   ]
  },
  {
   "cell_type": "code",
   "execution_count": 12,
   "metadata": {},
   "outputs": [
    {
     "name": "stdout",
     "output_type": "stream",
     "text": [
      "10368\n"
     ]
    }
   ],
   "source": [
    "i = 1\n",
    "while (i < length(a))\n",
    "    global i\n",
    "    # Check to see if a[i] forms a pair with previous\n",
    "    if ((i-1) > 0) && ispair(a[i][1], a[i-1][1])\n",
    "        deleteat!(a, (i-1):i)\n",
    "        i = i - 1\n",
    "    # See if it forms pair with following\n",
    "    elseif (i+1 < length(a)) && ispair(a[i][1], a[i+1][1]) \n",
    "        deleteat!(a, i:(i+1))\n",
    "    else \n",
    "        # Neither forms a pair, increment a[i] unless we are at end\n",
    "        i = i + 1\n",
    "    end\n",
    "end\n",
    "# There is a trailing newline \n",
    "println(length(a) - 1)"
   ]
  },
  {
   "cell_type": "code",
   "execution_count": 22,
   "metadata": {},
   "outputs": [
    {
     "data": {
      "text/plain": [
       "react (generic function with 1 method)"
      ]
     },
     "execution_count": 22,
     "metadata": {},
     "output_type": "execute_result"
    }
   ],
   "source": [
    "# 5b\n",
    "function react(str, c)\n",
    "    str = replace(read(\"5-input.txt\", String), \n",
    "        Regex(string(c, \"|\", uppercase(c)))=>\"\")\n",
    "    a = split(str, \"\")\n",
    "    i = 1\n",
    "    while (i < length(a))\n",
    "        # Check to see if a[i] forms a pair with previous\n",
    "        if ((i-1) > 0) && ispair(a[i][1], a[i-1][1])\n",
    "            deleteat!(a, (i-1):i)\n",
    "            i = i - 1\n",
    "        # See if it forms pair with following\n",
    "        elseif (i+1 < length(a)) && ispair(a[i][1], a[i+1][1]) \n",
    "            deleteat!(a, i:(i+1))\n",
    "        else \n",
    "            # Neither forms a pair, increment a[i] unless we are at end\n",
    "            i = i + 1\n",
    "        end\n",
    "    end\n",
    "    return length(a) - 1\n",
    "end"
   ]
  },
  {
   "cell_type": "code",
   "execution_count": 24,
   "metadata": {},
   "outputs": [
    {
     "name": "stdout",
     "output_type": "stream",
     "text": [
      "a: 9926\n",
      "b: 9954\n",
      "c: 9880\n",
      "d: 9950\n",
      "e: 9970\n",
      "f: 9942\n",
      "g: 9938\n",
      "h: 9986\n",
      "i: 9968\n",
      "j: 9962\n",
      "k: 10004\n",
      "l: 9966\n",
      "m: 9924\n",
      "n: 9974\n",
      "o: 9936\n",
      "p: 9968\n",
      "q: 9934\n",
      "r: 9972\n",
      "s: 9886\n",
      "t: 9968\n",
      "u: 9976\n",
      "v: 9924\n",
      "w: 9958\n",
      "x: 4122\n",
      "y: 9880\n",
      "z: 10004\n"
     ]
    }
   ],
   "source": [
    "for c in \"abcdefghijklmnopqrstuvwxyz\"\n",
    "    println(c, \": \", react(s, c))\n",
    "end"
   ]
  }
 ],
 "metadata": {
  "kernelspec": {
   "display_name": "Julia 1.0.2",
   "language": "julia",
   "name": "julia-1.0"
  },
  "language_info": {
   "file_extension": ".jl",
   "mimetype": "application/julia",
   "name": "julia",
   "version": "1.0.2"
  }
 },
 "nbformat": 4,
 "nbformat_minor": 2
}
