{
 "cells": [
  {
   "cell_type": "code",
   "execution_count": 19,
   "metadata": {},
   "outputs": [],
   "source": [
    "# 6a\n",
    "lines = readlines(\"6-input.txt\")\n",
    "pts = Array{NamedTuple{(:n, :x, :y),Tuple{Int64,Int64,Int64}},1}()\n",
    "for (i, l) in enumerate(lines)\n",
    "    (xi, yi) = parse.(Int64, match(r\"^([0-9]+), ([0-9]+)$\", l).captures)\n",
    "    push!(pts, (n=i, x=xi, y=yi))\n",
    "end"
   ]
  },
  {
   "cell_type": "code",
   "execution_count": null,
   "metadata": {},
   "outputs": [],
   "source": [
    "# This is probably easiest to do on the grid level --\n",
    "# draw a box around the points and then for each point in the box find\n",
    "# the distance to each point, then assign the grid point to that point"
   ]
  },
  {
   "cell_type": "code",
   "execution_count": 28,
   "metadata": {},
   "outputs": [
    {
     "data": {
      "text/plain": [
       "(41, 353)"
      ]
     },
     "execution_count": 28,
     "metadata": {},
     "output_type": "execute_result"
    }
   ],
   "source": [
    "(xmin, xmax) = extrema([p.x for p in pts])"
   ]
  },
  {
   "cell_type": "code",
   "execution_count": 29,
   "metadata": {},
   "outputs": [
    {
     "data": {
      "text/plain": [
       "(43, 358)"
      ]
     },
     "execution_count": 29,
     "metadata": {},
     "output_type": "execute_result"
    }
   ],
   "source": [
    "(ymin, ymax) = extrema([p.y for p in pts])"
   ]
  },
  {
   "cell_type": "code",
   "execution_count": 44,
   "metadata": {},
   "outputs": [],
   "source": [
    "map = Array{Int64, 2}(undef, xmax-xmin+1, ymax-ymin+1);\n",
    "for (xi, x) in enumerate(xmin:xmax)\n",
    "    for (yi, y) in enumerate(ymin:ymax)\n",
    "        # build array of point numbers and distances\n",
    "        dists = Array{Pair{Int64, Int64},1}()\n",
    "        for p in pts\n",
    "            push!(dists, Pair(p.n, abs(x-p.x)+abs(y-p.y)))\n",
    "        end\n",
    "        sort!(dists, by = x->x.second)\n",
    "        if dists[1].second == dists[2].second\n",
    "            map[xi, yi] = -1\n",
    "        else\n",
    "            map[xi, yi] = dists[1].first\n",
    "        end\n",
    "    end\n",
    "end"
   ]
  },
  {
   "cell_type": "code",
   "execution_count": 47,
   "metadata": {
    "scrolled": true
   },
   "outputs": [
    {
     "data": {
      "text/plain": [
       "51-element Array{Pair{Int64,Int64},1}:\n",
       " 18 => 5820\n",
       " 48 => 5532\n",
       "  6 => 5472\n",
       " 42 => 4580\n",
       " 39 => 3903\n",
       " 31 => 3743\n",
       " 47 => 3702\n",
       " 15 => 3600\n",
       " 32 => 3514\n",
       " 30 => 3159\n",
       " 23 => 3118\n",
       " -1 => 2845\n",
       " 28 => 2797\n",
       "    ⋮      \n",
       "  2 => 776 \n",
       " 26 => 763 \n",
       " 40 => 693 \n",
       " 16 => 612 \n",
       " 25 => 595 \n",
       " 37 => 418 \n",
       " 14 => 406 \n",
       " 12 => 406 \n",
       " 36 => 320 \n",
       " 10 => 303 \n",
       " 41 => 286 \n",
       " 27 => 276 "
      ]
     },
     "execution_count": 47,
     "metadata": {},
     "output_type": "execute_result"
    }
   ],
   "source": [
    "d = Dict{Int64, Int64}()\n",
    "for m in map\n",
    "    haskey(d, m) ? d[m] = d[m] + 1 : d[m] = 1\n",
    "end\n",
    "arr = [Pair(k,v) for (k,v) in d]\n",
    "sort!(arr, rev=true, by=x->x.second)"
   ]
  },
  {
   "cell_type": "code",
   "execution_count": 48,
   "metadata": {},
   "outputs": [
    {
     "data": {
      "text/plain": [
       "(n = 18, x = 202, y = 86)"
      ]
     },
     "execution_count": 48,
     "metadata": {},
     "output_type": "execute_result"
    }
   ],
   "source": [
    "# Our correct point is in the top five of the list above\n",
    "pts[18]"
   ]
  },
  {
   "cell_type": "code",
   "execution_count": 49,
   "metadata": {},
   "outputs": [
    {
     "data": {
      "text/plain": [
       "(n = 48, x = 166, y = 169)"
      ]
     },
     "execution_count": 49,
     "metadata": {},
     "output_type": "execute_result"
    }
   ],
   "source": [
    "# This was the right answer, 18 seemed to be valid though?\n",
    "pts[48]"
   ]
  },
  {
   "cell_type": "code",
   "execution_count": 66,
   "metadata": {},
   "outputs": [],
   "source": [
    "# 6b\n",
    "map = Array{Int64, 2}(undef, xmax-xmin+1, ymax-ymin+1)\n",
    "for (xi, x) in enumerate(xmin:xmax)\n",
    "    for (yi, y) in enumerate(ymin:ymax)\n",
    "        # build array of point numbers and distances\n",
    "        net_dist = 0\n",
    "        for p in pts\n",
    "            net_dist = net_dist + abs(x-p.x)+abs(y-p.y)\n",
    "        end\n",
    "        map[xi, yi] = net_dist\n",
    "    end\n",
    "end"
   ]
  },
  {
   "cell_type": "code",
   "execution_count": 68,
   "metadata": {},
   "outputs": [
    {
     "data": {
      "text/plain": [
       "36216"
      ]
     },
     "execution_count": 68,
     "metadata": {},
     "output_type": "execute_result"
    }
   ],
   "source": [
    "count(map.<10000)"
   ]
  },
  {
   "cell_type": "code",
   "execution_count": null,
   "metadata": {},
   "outputs": [],
   "source": []
  }
 ],
 "metadata": {
  "@webio": {
   "lastCommId": "46491cbdcdad4db69083c93bb4d228ec",
   "lastKernelId": "a4fd0e74-6d6e-4e86-818d-7875643108cc"
  },
  "kernelspec": {
   "display_name": "Julia 1.0.2",
   "language": "julia",
   "name": "julia-1.0"
  },
  "language_info": {
   "file_extension": ".jl",
   "mimetype": "application/julia",
   "name": "julia",
   "version": "1.0.2"
  }
 },
 "nbformat": 4,
 "nbformat_minor": 2
}
