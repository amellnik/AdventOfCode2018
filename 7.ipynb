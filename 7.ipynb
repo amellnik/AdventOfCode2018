{
 "cells": [
  {
   "cell_type": "code",
   "execution_count": 1,
   "metadata": {},
   "outputs": [],
   "source": [
    "# 7a\n",
    "\n",
    "lines = readlines(\"7-input.txt\")\n",
    "arr = Array{Pair{Char, Char},1}()\n",
    "for l in lines\n",
    "    (a,b) = match(r\"^Step ([A-Z]) .* ([A-Z]) can begin.$\", l).captures\n",
    "    push!(arr, Pair(a[1], b[1]))\n",
    "end\n",
    "arr\n",
    "\n",
    "# Perhaps unsurprizingly, it turns out that all chars appear in the list\n",
    "steps = unique([[x.first for x in arr]..., [x.second for x in arr]...])\n",
    "sort!(steps);"
   ]
  },
  {
   "cell_type": "code",
   "execution_count": null,
   "metadata": {
    "scrolled": true
   },
   "outputs": [],
   "source": [
    "# No steps depend on T, so it must be first \n",
    "ordering = []\n",
    "available = steps\n",
    "while length(available) > 0\n",
    "    global available, arr\n",
    "    # First, delete any rules where the source is in ordering\n",
    "    to_remove = findall(x -> x.first in ordering, arr)\n",
    "    deleteat!(arr, to_remove)\n",
    "    # We can't use anything that is still in the 2nd part of the list\n",
    "    deps = unique([x.second for x in arr])\n",
    "    # The first character that's still in \n",
    "    candidates = sort!(available[.![s in deps for s in available]])\n",
    "    push!(ordering, candidates[1])\n",
    "    # Now we need to remove the latest letter from the list of availabe\n",
    "    loc = findfirst(isequal(ordering[end]), available)\n",
    "    deleteat!(available, loc)\n",
    "end\n",
    "join(ordering, \"\")"
   ]
  },
  {
   "cell_type": "code",
   "execution_count": 2,
   "metadata": {},
   "outputs": [
    {
     "name": "stdout",
     "output_type": "stream",
     "text": [
      "0: Adding to work: G\n",
      "0: Adding to work: K\n",
      "0: Adding to work: P\n",
      "0: Adding to work: T\n",
      "66: Finished G\n",
      "70: Finished K\n",
      "75: Finished P\n",
      "79: Finished T\n",
      "80: Adding to work: S\n",
      "80: Adding to work: X\n",
      "158: Finished S\n",
      "159: Adding to work: L\n",
      "163: Finished X\n",
      "164: Adding to work: B\n",
      "164: Adding to work: I\n",
      "225: Finished B\n",
      "230: Finished L\n",
      "231: Adding to work: U\n",
      "232: Finished I\n",
      "233: Adding to work: J\n",
      "233: Adding to work: N\n",
      "302: Finished J\n",
      "303: Adding to work: M\n",
      "306: Finished N\n",
      "307: Adding to work: D\n",
      "307: Adding to work: V\n",
      "311: Finished U\n",
      "312: Adding to work: C\n",
      "312: Adding to work: F\n",
      "370: Finished D\n",
      "374: Finished C\n",
      "375: Adding to work: A\n",
      "375: Finished M\n",
      "377: Finished F\n",
      "388: Finished V\n",
      "389: Adding to work: H\n",
      "435: Finished A\n",
      "436: Adding to work: O\n",
      "456: Finished H\n",
      "457: Adding to work: E\n",
      "510: Finished O\n",
      "511: Adding to work: W\n",
      "521: Finished E\n",
      "593: Finished W\n",
      "594: Adding to work: Y\n",
      "678: Finished Y\n",
      "679: Adding to work: Q\n",
      "755: Finished Q\n",
      "756: Adding to work: R\n",
      "833: Finished R\n",
      "834: Adding to work: Z\n"
     ]
    },
    {
     "data": {
      "text/plain": [
       "835"
      ]
     },
     "execution_count": 2,
     "metadata": {},
     "output_type": "execute_result"
    }
   ],
   "source": [
    "# 7b\n",
    "val(c::Char) = findfirst(isequal(c), steps) + 60\n",
    "work = []\n",
    "seconds = 0\n",
    "available = steps\n",
    "ordering = []\n",
    "while (length(available) > 0)||(length(work)==0)\n",
    "    global work, seconds, available, arr, ordering\n",
    "    # We can't use anything that is still in the 2nd part of the list\n",
    "    deps = unique([x.second for x in arr])\n",
    "    candidates = sort!(available[.![s in deps for s in available]])\n",
    "    while (length(candidates)>0)&&(length(work)<5)\n",
    "        # If there is room in the work pool add a step\n",
    "        c = popfirst!(candidates)\n",
    "        push!(work,Dict(:c => c, :val => val(c))) # Push two-key dict\n",
    "        available = available[available.!=c]\n",
    "        println(seconds, \": Adding to work: \", c)\n",
    "    end\n",
    "    # The work is queued up, perform 1 second of work\n",
    "    for w in work\n",
    "        w[:val] = w[:val] - 1\n",
    "    end\n",
    "    #Check to see if any work has zero seconds left.  If so, finish it\n",
    "    dones = []\n",
    "    for (i, w) in enumerate(work)\n",
    "        if w[:val] == 0\n",
    "            push!(dones, i)\n",
    "            push!(ordering, w[:c])\n",
    "            # Delete requirements starting with this step\n",
    "            # Delete any rules where the source is in ordering\n",
    "            to_remove = findall(x -> x.first in ordering, arr)\n",
    "            deleteat!(arr, to_remove)\n",
    "            println(seconds, \": Finished \", w[:c])\n",
    "        end\n",
    "    end\n",
    "    for d in dones\n",
    "        deleteat!(work, d)\n",
    "    end\n",
    "    seconds = seconds + 1\n",
    "end\n",
    "seconds"
   ]
  },
  {
   "cell_type": "code",
   "execution_count": 3,
   "metadata": {},
   "outputs": [
    {
     "data": {
      "text/plain": [
       "920"
      ]
     },
     "execution_count": 3,
     "metadata": {},
     "output_type": "execute_result"
    }
   ],
   "source": [
    "# Add time for Z\n",
    "834+60+26"
   ]
  },
  {
   "cell_type": "code",
   "execution_count": null,
   "metadata": {},
   "outputs": [],
   "source": []
  }
 ],
 "metadata": {
  "@webio": {
   "lastCommId": "4c382ecc45464d0b8c7c46d09566dfc9",
   "lastKernelId": "d09a2e1c-b658-43b4-b782-9d59aded8b9d"
  },
  "kernelspec": {
   "display_name": "Julia 1.0.2",
   "language": "julia",
   "name": "julia-1.0"
  },
  "language_info": {
   "file_extension": ".jl",
   "mimetype": "application/julia",
   "name": "julia",
   "version": "1.0.2"
  }
 },
 "nbformat": 4,
 "nbformat_minor": 2
}
