{
 "cells": [
  {
   "cell_type": "code",
   "execution_count": 44,
   "metadata": {},
   "outputs": [
    {
     "data": {
      "text/plain": [
       "(374287, 387)"
      ]
     },
     "execution_count": 44,
     "metadata": {},
     "output_type": "execute_result"
    }
   ],
   "source": [
    "# 9a\n",
    "\"468 players; last marble is worth 71010 points\"\n",
    "# That's a lot of marbles\n",
    "\n",
    "n_players = 468\n",
    "n_marbles = 71010\n",
    "\n",
    "scores = zeros(Int64, n_players)\n",
    "game = [0]\n",
    "for i in 1:n_marbles\n",
    "    global game\n",
    "    if (i % 23) != 0\n",
    "        game = circshift(game, -1)\n",
    "        push!(game, i)\n",
    "    else \n",
    "        game = circshift(game, 7)\n",
    "        m = pop!(game)\n",
    "        # Who's the lucky player?\n",
    "        pi = (i - 1) % n_players + 1\n",
    "        scores[pi] = scores[pi] + m + i\n",
    "        game = circshift(game, - 1)\n",
    "    end\n",
    "#     println(game)\n",
    "end\n",
    "findmax(scores)"
   ]
  },
  {
   "cell_type": "code",
   "execution_count": 45,
   "metadata": {
    "scrolled": true
   },
   "outputs": [
    {
     "name": "stdout",
     "output_type": "stream",
     "text": [
      "1704.956723 seconds (6.83 M allocations: 529.265 MiB, 0.00% gc time)\n"
     ]
    },
    {
     "data": {
      "text/plain": [
       "(3083412635, 440)"
      ]
     },
     "execution_count": 45,
     "metadata": {},
     "output_type": "execute_result"
    }
   ],
   "source": [
    "# 9b\n",
    "# Ok we need to care about performance now\n",
    "\n",
    "n_players = 468\n",
    "n_marbles = 71010*100\n",
    "\n",
    "function wrap(n_players, n_marbles)\n",
    "    # Set initial state\n",
    "    scores = zeros(Int64, n_players)\n",
    "    game = Int64[0]\n",
    "    pos = 1\n",
    "    for i in 1:n_marbles\n",
    "        if i % 23 != 0\n",
    "            pos = pos + 2\n",
    "            # The only time we need to wrap\n",
    "            if pos == length(game) + 2\n",
    "                pos = 2\n",
    "            end\n",
    "            splice!(game, pos:(pos-1), i)\n",
    "        else\n",
    "            # Which player gets to score?\n",
    "            pi = (i - 1) % n_players + 1\n",
    "            pos = pos - 7 > 0 ? pos - 7 : length(game) + pos - 7\n",
    "            scores[pi] = scores[pi] + i + game[pos]\n",
    "            deleteat!(game, pos)\n",
    "        end\n",
    "#         println(i, \": \", pos, \" - \", join(game, \" \"))\n",
    "    end\n",
    "    return findmax(scores)\n",
    "end\n",
    "@time wrap(n_players, n_marbles)"
   ]
  },
  {
   "cell_type": "code",
   "execution_count": null,
   "metadata": {},
   "outputs": [],
   "source": []
  }
 ],
 "metadata": {
  "@webio": {
   "lastCommId": "8220c361058d496588133a0463e542bb",
   "lastKernelId": "98ec91f3-4d13-4b9f-9dfc-693c21c7a196"
  },
  "kernelspec": {
   "display_name": "Julia 1.0.2",
   "language": "julia",
   "name": "julia-1.0"
  },
  "language_info": {
   "file_extension": ".jl",
   "mimetype": "application/julia",
   "name": "julia",
   "version": "1.0.2"
  }
 },
 "nbformat": 4,
 "nbformat_minor": 2
}
